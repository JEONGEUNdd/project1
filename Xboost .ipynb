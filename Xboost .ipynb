{
  "nbformat": 4,
  "nbformat_minor": 0,
  "metadata": {
    "colab": {
      "provenance": []
    },
    "kernelspec": {
      "name": "python3",
      "display_name": "Python 3"
    },
    "language_info": {
      "name": "python"
    }
  },
  "cells": [
    {
      "cell_type": "code",
      "execution_count": null,
      "metadata": {
        "colab": {
          "base_uri": "https://localhost:8080/"
        },
        "id": "oBZLplWb7AX_",
        "outputId": "66a3af92-3c62-4a45-e2b7-0d297f904f0b"
      },
      "outputs": [
        {
          "output_type": "stream",
          "name": "stdout",
          "text": [
            "Mounted at /content/drive\n"
          ]
        }
      ],
      "source": [
        "from google.colab import drive\n",
        "drive.mount('/content/drive')"
      ]
    },
    {
      "cell_type": "code",
      "source": [],
      "metadata": {
        "id": "rqLuOCI-7SBT"
      },
      "execution_count": null,
      "outputs": []
    },
    {
      "cell_type": "code",
      "source": [
        "import pandas as pd\n",
        "from imblearn.over_sampling import SMOTE\n",
        "from sklearn.model_selection import train_test_split\n",
        "from sklearn.preprocessing import LabelEncoder\n",
        "from sklearn.metrics import classification_report, accuracy_score\n",
        "import xgboost as xgb\n",
        "import numpy as np\n",
        "\n",
        "# 데이터 로드\n",
        "df = pd.read_csv('/content/drive/MyDrive/df_f8.csv')\n",
        "\n",
        "# 사고 발생 변수 생성\n",
        "# 사고 건수가 1 이상이면 1, 1이면 0\n",
        "df['사고 발생'] = df['사고건수'].apply(lambda x: 1 if x > 1 else 0)\n",
        "\n",
        "# 타겟 변수 분포 확인\n",
        "print(\"사고 발생 변수 분포:\")\n",
        "print(df['사고 발생'].value_counts())\n",
        "\n",
        "# 필요한 열 선택 및 타겟 변수 생성\n",
        "columns = ['사고요일', '사고시', '시군구', '사고 발생']\n",
        "df = df[columns]\n",
        "\n",
        "# 카테고리 변수 인코딩\n",
        "label_encoders = {}\n",
        "for column in ['사고요일', '사고시', '시군구']:\n",
        "    le = LabelEncoder()\n",
        "    df[column] = le.fit_transform(df[column])\n",
        "    label_encoders[column] = le\n",
        "\n",
        "# 입력 변수와 타겟 변수 분리\n",
        "X = df.drop(columns=['사고 발생'])\n",
        "y = df['사고 발생']\n",
        "\n",
        "# SMOTE를 사용하여 클래스 비율 조정\n",
        "smote = SMOTE(random_state=42)\n",
        "X_resampled, y_resampled = smote.fit_resample(X, y)\n",
        "\n",
        "# 학습용과 검증용 데이터 분리\n",
        "X_train, X_test, y_train, y_test = train_test_split(X_resampled, y_resampled, test_size=0.2, random_state=42)\n",
        "\n",
        "# XGBoost 모델 학습\n",
        "model = xgb.XGBClassifier(use_label_encoder=False, eval_metric='logloss', n_estimators=500, max_depth=5, learning_rate=0.2)\n",
        "model.fit(X_train, y_train)\n",
        "\n",
        "# 예측 및 평가\n",
        "y_pred = model.predict(X_test)\n",
        "classification_report_result = classification_report(y_test, y_pred)\n",
        "accuracy = accuracy_score(y_test, y_pred)\n",
        "\n",
        "print(\"Classification Report:\")\n",
        "print(classification_report_result)\n",
        "print(\"Accuracy:\", accuracy)\n",
        "# 예측 함수 정의\n",
        "def predict_accident(day, hour, district):\n",
        "    day_encoded = label_encoders['사고요일'].transform([day])[0]\n",
        "    hour_encoded = label_encoders['사고시'].transform([hour])[0]\n",
        "    district_encoded = label_encoders['시군구'].transform([district])[0]\n",
        "\n",
        "    input_data = pd.DataFrame([[day_encoded, hour_encoded, district_encoded]], columns=['사고요일', '사고시', '시군구'])\n",
        "    probability = model.predict_proba(input_data)[0][1]\n",
        "    return probability\n",
        "\n",
        "# 특정 조건에 따른 사고 발생 가능성 예측 예시\n",
        "# 예시: 금요일, 22시, 서울특별시 강남구 역삼동에서 사고 발생 가능성 예측\n",
        "day = '일요일'\n",
        "hour = '22시'\n",
        "district = '서울특별시 강남구 역삼동'\n",
        "\n",
        "probability = predict_accident(day, hour, district)\n",
        "probability"
      ],
      "metadata": {
        "colab": {
          "base_uri": "https://localhost:8080/"
        },
        "id": "FydsG9y2XM6R",
        "outputId": "0d9e30f2-926f-4d3c-adf0-f7e44be191a4"
      },
      "execution_count": null,
      "outputs": [
        {
          "output_type": "stream",
          "name": "stdout",
          "text": [
            "사고 발생 변수 분포:\n",
            "사고 발생\n",
            "0    3999\n",
            "1    2249\n",
            "Name: count, dtype: int64\n",
            "Classification Report:\n",
            "              precision    recall  f1-score   support\n",
            "\n",
            "           0       0.84      0.78      0.81       802\n",
            "           1       0.79      0.85      0.82       798\n",
            "\n",
            "    accuracy                           0.81      1600\n",
            "   macro avg       0.82      0.81      0.81      1600\n",
            "weighted avg       0.82      0.81      0.81      1600\n",
            "\n",
            "Accuracy: 0.81375\n"
          ]
        },
        {
          "output_type": "execute_result",
          "data": {
            "text/plain": [
              "0.938214"
            ]
          },
          "metadata": {},
          "execution_count": 44
        }
      ]
    },
    {
      "cell_type": "code",
      "source": [
        "import pandas as pd\n",
        "from imblearn.over_sampling import SMOTE\n",
        "from sklearn.model_selection import train_test_split\n",
        "from sklearn.preprocessing import LabelEncoder\n",
        "from sklearn.metrics import classification_report, accuracy_score\n",
        "import xgboost as xgb\n",
        "import numpy as np\n",
        "import matplotlib.pyplot as plt\n",
        "\n",
        "# 데이터 로드\n",
        "df = pd.read_csv('/content/drive/MyDrive/df_f8.csv')\n",
        "\n",
        "# 사고 발생 변수 생성\n",
        "# 사고 건수가 1 이상이면 1, 1이면 0\n",
        "df['사고 발생'] = df['사고건수'].apply(lambda x: 1 if x > 1 else 0)\n",
        "\n",
        "# 타겟 변수 분포 확인\n",
        "print(\"사고 발생 변수 분포:\")\n",
        "print(df['사고 발생'].value_counts())\n",
        "\n",
        "# 필요한 열 선택 및 타겟 변수 생성\n",
        "columns = ['사고요일', '사고시', '시군구', '사고 발생']\n",
        "df = df[columns]\n",
        "\n",
        "# 카테고리 변수 인코딩\n",
        "label_encoders = {}\n",
        "for column in ['사고요일', '사고시', '시군구']:\n",
        "    le = LabelEncoder()\n",
        "    df[column] = le.fit_transform(df[column])\n",
        "    label_encoders[column] = le\n",
        "\n",
        "# 입력 변수와 타겟 변수 분리\n",
        "X = df.drop(columns=['사고 발생'])\n",
        "y = df['사고 발생']\n",
        "\n",
        "# SMOTE를 사용하여 클래스 비율 조정\n",
        "smote = SMOTE(random_state=42)\n",
        "X_resampled, y_resampled = smote.fit_resample(X, y)\n",
        "\n",
        "# 학습용과 검증용 데이터 분리\n",
        "X_train, X_test, y_train, y_test = train_test_split(X_resampled, y_resampled, test_size=0.2, random_state=42)\n",
        "\n",
        "# XGBoost 모델 학습 (수정된 파라미터)\n",
        "model = xgb.XGBClassifier(use_label_encoder=False, eval_metric='logloss', n_estimators=200, max_depth=3, learning_rate=0.1, reg_alpha=0.1, reg_lambda=0.1)\n",
        "model.fit(X_train, y_train, eval_set=[(X_train, y_train), (X_test, y_test)], early_stopping_rounds=10, verbose=False)\n",
        "\n",
        "# 예측 및 평가\n",
        "y_pred = model.predict(X_test)\n",
        "classification_report_result = classification_report(y_test, y_pred)\n",
        "accuracy = accuracy_score(y_test, y_pred)\n",
        "\n",
        "print(\"Classification Report:\")\n",
        "print(classification_report_result)\n",
        "print(\"Accuracy:\", accuracy)\n",
        "\n",
        "# 학습 데이터와 검증 데이터의 성능 비교\n",
        "y_pred_train = model.predict(X_train)\n",
        "train_accuracy = accuracy_score(y_train, y_pred_train)\n",
        "test_accuracy = accuracy_score(y_test, y_pred)\n",
        "\n",
        "print(\"Train Accuracy:\", train_accuracy)\n",
        "print(\"Test Accuracy:\", test_accuracy)\n",
        "\n",
        "# 학습 곡선 그리기\n",
        "evals_result = model.evals_result()\n",
        "\n",
        "epochs = len(evals_result['validation_0']['logloss'])\n",
        "x_axis = range(0, epochs)\n",
        "\n",
        "plt.figure(figsize=(10, 6))\n",
        "plt.plot(x_axis, evals_result['validation_0']['logloss'], label='Train')\n",
        "plt.plot(x_axis, evals_result['validation_1']['logloss'], label='Test')\n",
        "plt.legend()\n",
        "plt.xlabel('Epochs')\n",
        "plt.ylabel('Log Loss')\n",
        "plt.title('XGBoost Log Loss')\n",
        "plt.show()\n",
        "\n",
        "# 예측 함수 정의\n",
        "def predict_accident(day, hour, district):\n",
        "    day_encoded = label_encoders['사고요일'].transform([day])[0]\n",
        "    hour_encoded = label_encoders['사고시'].transform([hour])[0]\n",
        "    district_encoded = label_encoders['시군구'].transform([district])[0]\n",
        "\n",
        "    input_data = pd.DataFrame([[day_encoded, hour_encoded, district_encoded]], columns=['사고요일', '사고시', '시군구'])\n",
        "    probability = model.predict_proba(input_data)[0][1]\n",
        "    return probability\n",
        "\n",
        "# 특정 조건에 따른 사고 발생 가능성 예측 예시\n",
        "# 예시: 일요일, 22시, 서울특별시 강남구 역삼동에서 사고 발생 가능성 예측\n",
        "day = '일요일'\n",
        "hour = '22시'\n",
        "district = '서울특별시 강남구 역삼동'\n",
        "\n",
        "probability = predict_accident(day, hour, district)\n",
        "print(f'일요일 22시 서울특별시 강남구 역삼동에서의 사고 발생 가능성: {probability:.2%}')"
      ],
      "metadata": {
        "colab": {
          "base_uri": "https://localhost:8080/",
          "height": 959
        },
        "id": "zl8y4Txn7R66",
        "outputId": "5241425d-a0cd-4b20-ee7e-69ea234a5c38"
      },
      "execution_count": null,
      "outputs": [
        {
          "output_type": "stream",
          "name": "stdout",
          "text": [
            "사고 발생 변수 분포:\n",
            "사고 발생\n",
            "0    3999\n",
            "1    2249\n",
            "Name: count, dtype: int64\n"
          ]
        },
        {
          "output_type": "stream",
          "name": "stderr",
          "text": [
            "/usr/local/lib/python3.10/dist-packages/xgboost/sklearn.py:889: UserWarning: `early_stopping_rounds` in `fit` method is deprecated for better compatibility with scikit-learn, use `early_stopping_rounds` in constructor or`set_params` instead.\n",
            "  warnings.warn(\n"
          ]
        },
        {
          "output_type": "stream",
          "name": "stdout",
          "text": [
            "Classification Report:\n",
            "              precision    recall  f1-score   support\n",
            "\n",
            "           0       0.73      0.73      0.73       802\n",
            "           1       0.73      0.73      0.73       798\n",
            "\n",
            "    accuracy                           0.73      1600\n",
            "   macro avg       0.73      0.73      0.73      1600\n",
            "weighted avg       0.73      0.73      0.73      1600\n",
            "\n",
            "Accuracy: 0.730625\n",
            "Train Accuracy: 0.776023757424195\n",
            "Test Accuracy: 0.730625\n"
          ]
        },
        {
          "output_type": "display_data",
          "data": {
            "text/plain": [
              "<Figure size 1000x600 with 1 Axes>"
            ],
            "image/png": "[encoded data removed]"
          },
          "metadata": {}
        },
        {
          "output_type": "stream",
          "name": "stdout",
          "text": [
            "일요일 22시 서울특별시 강남구 역삼동에서의 사고 발생 가능성: 89.40%\n"
          ]
        }
      ]
    },
    {
      "cell_type": "code",
      "source": [
        "import pandas as pd\n",
        "from imblearn.over_sampling import SMOTE\n",
        "from sklearn.model_selection import train_test_split\n",
        "from sklearn.preprocessing import LabelEncoder\n",
        "from sklearn.metrics import classification_report, accuracy_score\n",
        "import xgboost as xgb\n",
        "import numpy as np\n",
        "\n",
        "# 데이터 로드\n",
        "df = pd.read_csv('/content/drive/MyDrive/df_f8.csv')\n",
        "\n",
        "# 사고 발생 변수 생성\n",
        "# 사고 건수가 1 이상이면 1, 1이면 0\n",
        "df['사고 발생'] = df['사고건수'].apply(lambda x: 1 if x > 1 else 0)\n",
        "\n",
        "# 타겟 변수 분포 확인\n",
        "print(\"사고 발생 변수 분포:\")\n",
        "print(df['사고 발생'].value_counts())\n",
        "\n",
        "# 필요한 열 선택 및 타겟 변수 생성\n",
        "columns = ['사고요일', '사고시', '시군구', '사고 발생']\n",
        "df = df[columns]\n",
        "\n",
        "# 카테고리 변수 인코딩\n",
        "label_encoders = {}\n",
        "for column in ['사고요일', '사고시', '시군구']:\n",
        "    le = LabelEncoder()\n",
        "    df[column] = le.fit_transform(df[column])\n",
        "    label_encoders[column] = le\n",
        "\n",
        "# 입력 변수와 타겟 변수 분리\n",
        "X = df.drop(columns=['사고 발생'])\n",
        "y = df['사고 발생']\n",
        "\n",
        "# SMOTE를 사용하여 클래스 비율 조정\n",
        "smote = SMOTE(random_state=42)\n",
        "X_resampled, y_resampled = smote.fit_resample(X, y)\n",
        "\n",
        "# 학습용과 검증용 데이터 분리\n",
        "X_train, X_test, y_train, y_test = train_test_split(X_resampled, y_resampled, test_size=0.2, random_state=42)\n",
        "\n",
        "# XGBoost 모델 학습\n",
        "model = xgb.XGBClassifier(use_label_encoder=False, eval_metric='logloss', n_estimators=50, max_depth=3, learning_rate=0.1)\n",
        "model.fit(X_train, y_train)\n",
        "\n",
        "# 예측 및 평가\n",
        "y_pred = model.predict(X_test)\n",
        "classification_report_result = classification_report(y_test, y_pred)\n",
        "accuracy = accuracy_score(y_test, y_pred)\n",
        "\n",
        "print(\"Classification Report:\")\n",
        "print(classification_report_result)\n",
        "print(\"Accuracy:\", accuracy)"
      ],
      "metadata": {
        "colab": {
          "base_uri": "https://localhost:8080/"
        },
        "id": "zhCn4sVv7R4g",
        "outputId": "206909b7-fb43-4092-e792-c9dbf3ed4424"
      },
      "execution_count": null,
      "outputs": [
        {
          "output_type": "stream",
          "name": "stdout",
          "text": [
            "사고 발생 변수 분포:\n",
            "사고 발생\n",
            "0    3999\n",
            "1    2249\n",
            "Name: count, dtype: int64\n",
            "Classification Report:\n",
            "              precision    recall  f1-score   support\n",
            "\n",
            "           0       0.72      0.68      0.70       802\n",
            "           1       0.70      0.73      0.71       798\n",
            "\n",
            "    accuracy                           0.71      1600\n",
            "   macro avg       0.71      0.71      0.71      1600\n",
            "weighted avg       0.71      0.71      0.71      1600\n",
            "\n",
            "Accuracy: 0.708125\n"
          ]
        }
      ]
    },
    {
      "cell_type": "code",
      "source": [
        "# 예측 함수 정의\n",
        "def predict_accident(day, hour, district):\n",
        "    day_encoded = label_encoders['사고요일'].transform([day])[0]\n",
        "    hour_encoded = label_encoders['사고시'].transform([hour])[0]\n",
        "    district_encoded = label_encoders['시군구'].transform([district])[0]\n",
        "\n",
        "    input_data = pd.DataFrame([[day_encoded, hour_encoded, district_encoded]], columns=['사고요일', '사고시', '시군구'])\n",
        "    probability = model.predict_proba(input_data)[0][1]\n",
        "    return probability\n",
        "\n",
        "# 특정 조건에 따른 사고 발생 가능성 예측 예시\n",
        "# 예시: 금요일, 22시, 서울특별시 강남구 역삼동에서 사고 발생 가능성 예측\n",
        "day = '일요일'\n",
        "hour = '22시'\n",
        "district = '서울특별시 구로구 구로동'\n",
        "\n",
        "probability = predict_accident(day, hour, district)\n",
        "probability"
      ],
      "metadata": {
        "colab": {
          "base_uri": "https://localhost:8080/"
        },
        "id": "3SC9JYyt7R1S",
        "outputId": "9469f694-ccb9-4bac-dd62-206e8898e81a"
      },
      "execution_count": null,
      "outputs": [
        {
          "output_type": "execute_result",
          "data": {
            "text/plain": [
              "0.73077315"
            ]
          },
          "metadata": {},
          "execution_count": 25
        }
      ]
    },
    {
      "cell_type": "code",
      "source": [
        "import pandas as pd\n",
        "from sklearn.model_selection import train_test_split\n",
        "from sklearn.preprocessing import LabelEncoder\n",
        "from sklearn.metrics import classification_report, accuracy_score\n",
        "import xgboost as xgb\n",
        "from imblearn.over_sampling import SMOTE\n",
        "import numpy as np\n",
        "\n",
        "# 데이터 로드\n",
        "df = pd.read_csv('/content/drive/MyDrive/df_f8.csv')\n",
        "\n",
        "# 사고 발생 변수 생성\n",
        "# 사고 건수가 1이면 0, 그 이상이면 1\n",
        "df['사고 발생'] = df['사고건수'].apply(lambda x: 1 if x > 1 else 0)\n",
        "\n",
        "# 타겟 변수 분포 확인\n",
        "print(\"사고 발생 변수 분포:\")\n",
        "print(df['사고 발생'].value_counts())\n",
        "\n",
        "# 필요한 열 선택 및 타겟 변수 생성\n",
        "columns = ['사고요일', '사고시', '시군구', '사고 발생']\n",
        "df = df[columns]\n",
        "\n",
        "# 데이터 증강\n",
        "# 사고 발생이 0인 데이터 (사고건수 1인 데이터) 줄이기\n",
        "df_minority = df[df['사고 발생'] == 0]\n",
        "df_majority = df[df['사고 발생'] == 1]\n",
        "\n",
        "# 사고 발생이 0인 데이터 (사고건수 1인 데이터)를 샘플링하여 줄이기\n",
        "df_minority_downsampled = df_minority.sample(n=len(df_majority), random_state=42)\n",
        "\n",
        "# 데이터 병합\n",
        "df_balanced = pd.concat([df_minority_downsampled, df_majority])\n",
        "\n",
        "# 카테고리 변수 인코딩\n",
        "label_encoders = {}\n",
        "for column in ['사고요일', '사고시', '시군구']:\n",
        "    le = LabelEncoder()\n",
        "    df_balanced[column] = le.fit_transform(df_balanced[column])\n",
        "    label_encoders[column] = le\n",
        "\n",
        "# 입력 변수와 타겟 변수 분리\n",
        "X = df_balanced.drop(columns=['사고 발생'])\n",
        "y = df_balanced['사고 발생']\n",
        "\n",
        "# SMOTE를 사용하여 클래스 비율 조정\n",
        "smote = SMOTE(random_state=42)\n",
        "X_resampled, y_resampled = smote.fit_resample(X, y)\n",
        "\n",
        "# 학습용과 검증용 데이터 분리\n",
        "X_train, X_test, y_train, y_test = train_test_split(X_resampled, y_resampled, test_size=0.2, random_state=42)\n",
        "\n",
        "# XGBoost 모델 학습\n",
        "model = xgb.XGBClassifier(use_label_encoder=False, eval_metric='logloss', n_estimators=50, max_depth=3, learning_rate=0.1)\n",
        "model.fit(X_train, y_train)\n",
        "\n",
        "# 예측 및 평가\n",
        "y_pred = model.predict(X_test)\n",
        "classification_report_result = classification_report(y_test, y_pred)\n",
        "accuracy = accuracy_score(y_test, y_pred)\n",
        "\n",
        "print(\"Classification Report:\")\n",
        "print(classification_report_result)\n",
        "print(\"Accuracy:\", accuracy)\n",
        "\n",
        "# 예측 함수 정의\n",
        "def predict_accident(day, hour, district):\n",
        "    day_encoded = label_encoders['사고요일'].transform([day])[0]\n",
        "    hour_encoded = label_encoders['사고시'].transform([hour])[0]\n",
        "    district_encoded = label_encoders['시군구'].transform([district])[0]\n",
        "\n",
        "    input_data = pd.DataFrame([[day_encoded, hour_encoded, district_encoded]], columns=['사고요일', '사고시', '시군구'])\n",
        "    probability = model.predict_proba(input_data)[0][1]\n",
        "    return probability\n",
        "\n",
        "# 특정 조건에 따른 사고 발생 가능성 예측 예시\n",
        "# 예시: 금요일, 22시, 서울특별시 강남구 역삼동에서 사고 발생 가능성 예측\n",
        "day = '금요일'\n",
        "hour = '22시'\n",
        "district = '서울특별시 강남구 역삼동'\n",
        "\n",
        "probability = predict_accident(day, hour, district)\n",
        "print(f'금요일 22시 서울특별시 강남구 역삼동에서의 사고 발생 가능성: {probability:.2%}')\n"
      ],
      "metadata": {
        "colab": {
          "base_uri": "https://localhost:8080/"
        },
        "id": "LofqAva67R0H",
        "outputId": "dda215e0-ea3f-4adb-c3ed-d0e2161a4c96"
      },
      "execution_count": null,
      "outputs": [
        {
          "output_type": "stream",
          "name": "stdout",
          "text": [
            "사고 발생 변수 분포:\n",
            "사고 발생\n",
            "0    3999\n",
            "1    2249\n",
            "Name: count, dtype: int64\n",
            "Classification Report:\n",
            "              precision    recall  f1-score   support\n",
            "\n",
            "           0       0.72      0.65      0.68       475\n",
            "           1       0.65      0.72      0.68       425\n",
            "\n",
            "    accuracy                           0.68       900\n",
            "   macro avg       0.68      0.68      0.68       900\n",
            "weighted avg       0.69      0.68      0.68       900\n",
            "\n",
            "Accuracy: 0.6822222222222222\n",
            "금요일 22시 서울특별시 강남구 역삼동에서의 사고 발생 가능성: 91.39%\n"
          ]
        }
      ]
    },
    {
      "cell_type": "code",
      "source": [],
      "metadata": {
        "id": "NmxISvFv7RzF"
      },
      "execution_count": null,
      "outputs": []
    },
    {
      "cell_type": "code",
      "source": [],
      "metadata": {
        "id": "V8Mkykix7Ru3"
      },
      "execution_count": null,
      "outputs": []
    },
    {
      "cell_type": "code",
      "source": [],
      "metadata": {
        "id": "e2Wwac5A7RqM"
      },
      "execution_count": null,
      "outputs": []
    },
    {
      "cell_type": "code",
      "source": [],
      "metadata": {
        "id": "1dUIYruS7RmW"
      },
      "execution_count": null,
      "outputs": []
    }
  ]
}